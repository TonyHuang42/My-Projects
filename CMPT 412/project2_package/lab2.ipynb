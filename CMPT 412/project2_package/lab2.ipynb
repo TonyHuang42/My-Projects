{
 "cells": [
  {
   "cell_type": "markdown",
   "metadata": {
    "id": "wmCbxoDrADcF"
   },
   "source": [
    "# Google Colab setup with Google Drive folder\n",
    "\n",
    "This notebook provides the code you need to set up Google Colab to run and import files from within a Google Drive folder.\n",
    "\n",
    "This will allow you to upload assignment code to your Google Drive and then run the code on Google Colab machines (with free GPUs if needed). \n",
    "\n",
    "You will need to create a folder in your Google Drive to hold your assignments and you will need to open Colaboratory within this folder before running the set up code (check the link above to see how)."
   ]
  },
  {
   "cell_type": "markdown",
   "metadata": {
    "id": "zWhrmhqVCyGH"
   },
   "source": [
    "# Mount Google Drive\n",
    "\n",
    "This will allow the Colab machine to access Google Drive folders by mounting the drive on the machine. You will be asked to copy and paste an authentication code."
   ]
  },
  {
   "cell_type": "code",
   "execution_count": 1,
   "metadata": {
    "colab": {
     "base_uri": "https://localhost:8080/",
     "height": 35
    },
    "executionInfo": {
     "elapsed": 16194,
     "status": "ok",
     "timestamp": 1602479938293,
     "user": {
      "displayName": "Tony Huang",
      "photoUrl": "https://lh3.googleusercontent.com/a-/AOh14GhWwH2445lPU35X9yaDUI7RSJxiPK7SrPD3nnbMtw=s64",
      "userId": "05965443642119660959"
     },
     "user_tz": 420
    },
    "id": "Wv2oKmF9AJtI",
    "outputId": "2b2fc54d-f57b-4340-94a8-7d44a8042769"
   },
   "outputs": [
    {
     "ename": "ModuleNotFoundError",
     "evalue": "No module named 'google.colab'",
     "output_type": "error",
     "traceback": [
      "\u001b[1;31m---------------------------------------------------------------------------\u001b[0m",
      "\u001b[1;31mModuleNotFoundError\u001b[0m                       Traceback (most recent call last)",
      "\u001b[1;32m<ipython-input-1-9a9a89271754>\u001b[0m in \u001b[0;36m<module>\u001b[1;34m\u001b[0m\n\u001b[1;32m----> 1\u001b[1;33m \u001b[1;32mfrom\u001b[0m \u001b[0mgoogle\u001b[0m\u001b[1;33m.\u001b[0m\u001b[0mcolab\u001b[0m \u001b[1;32mimport\u001b[0m \u001b[0mdrive\u001b[0m\u001b[1;33m\u001b[0m\u001b[1;33m\u001b[0m\u001b[0m\n\u001b[0m\u001b[0;32m      2\u001b[0m \u001b[0mdrive\u001b[0m\u001b[1;33m.\u001b[0m\u001b[0mmount\u001b[0m\u001b[1;33m(\u001b[0m\u001b[1;34m'/content/gdrive/'\u001b[0m\u001b[1;33m)\u001b[0m\u001b[1;33m\u001b[0m\u001b[1;33m\u001b[0m\u001b[0m\n",
      "\u001b[1;31mModuleNotFoundError\u001b[0m: No module named 'google.colab'"
     ]
    }
   ],
   "source": [
    "from google.colab import drive\n",
    "drive.mount('/content/gdrive/')"
   ]
  },
  {
   "cell_type": "code",
   "execution_count": 6,
   "metadata": {
    "colab": {
     "base_uri": "https://localhost:8080/",
     "height": 35
    },
    "executionInfo": {
     "elapsed": 16185,
     "status": "ok",
     "timestamp": 1602479938295,
     "user": {
      "displayName": "Tony Huang",
      "photoUrl": "https://lh3.googleusercontent.com/a-/AOh14GhWwH2445lPU35X9yaDUI7RSJxiPK7SrPD3nnbMtw=s64",
      "userId": "05965443642119660959"
     },
     "user_tz": 420
    },
    "id": "kKGxaMcmP_Et",
    "outputId": "cf686c39-6fda-4187-86e7-c78a1c38777a",
    "scrolled": false
   },
   "outputs": [
    {
     "name": "stdout",
     "output_type": "stream",
     "text": [
      " Volume in drive F is HDD2\n",
      " Volume Serial Number is A29E-CD8F\n",
      "\n",
      " Directory of F:\\OneDrive\\Courses\\CMPT 412\\project2_package\n",
      "\n",
      "2020-10-13  02:49 PM    <DIR>          .\n",
      "2020-10-13  02:49 PM    <DIR>          ..\n",
      "2020-10-11  08:01 PM    <DIR>          .ipynb_checkpoints\n",
      "2020-10-11  11:49 PM           343,300 301326521.docx\n",
      "2020-10-11  11:49 PM           226,288 301326521.pdf\n",
      "2020-10-13  02:49 PM           163,162 lab2.ipynb\n",
      "2020-10-11  11:39 PM            27,938 plot.png\n",
      "2020-10-12  12:00 AM           127,967 submission_netid.csv\n",
      "               5 File(s)        888,655 bytes\n",
      "               3 Dir(s)  2,576,956,379,136 bytes free\n"
     ]
    }
   ],
   "source": [
    "ls"
   ]
  },
  {
   "cell_type": "markdown",
   "metadata": {
    "id": "4Qs04PPwDOFy"
   },
   "source": [
    "# Change directory to allow imports\n",
    "\n",
    "\n",
    "As noted above, you should create a Google Drive folder to hold all your assignment files. You will need to add this code to the top of any python notebook you run to be able to import python files from your drive assignment folder (you should change the file path below to be your own assignment folder). Following the hand-out, you should have a directory \"SFU_CMPT_CV_lab2\" on g-drive, which should have a directory \"data\", which contains three tar.gz files."
   ]
  },
  {
   "cell_type": "code",
   "execution_count": 3,
   "metadata": {
    "executionInfo": {
     "elapsed": 16185,
     "status": "ok",
     "timestamp": 1602479938297,
     "user": {
      "displayName": "Tony Huang",
      "photoUrl": "https://lh3.googleusercontent.com/a-/AOh14GhWwH2445lPU35X9yaDUI7RSJxiPK7SrPD3nnbMtw=s64",
      "userId": "05965443642119660959"
     },
     "user_tz": 420
    },
    "id": "UA2-UyfpEc9O"
   },
   "outputs": [],
   "source": [
    "import os\n",
    "os.chdir(\"/content/gdrive/My Drive/SFU_CMPT_CV_lab2\")"
   ]
  },
  {
   "cell_type": "code",
   "execution_count": 5,
   "metadata": {
    "colab": {
     "base_uri": "https://localhost:8080/",
     "height": 35
    },
    "executionInfo": {
     "elapsed": 16398,
     "status": "ok",
     "timestamp": 1602479938517,
     "user": {
      "displayName": "Tony Huang",
      "photoUrl": "https://lh3.googleusercontent.com/a-/AOh14GhWwH2445lPU35X9yaDUI7RSJxiPK7SrPD3nnbMtw=s64",
      "userId": "05965443642119660959"
     },
     "user_tz": 420
    },
    "id": "gyRCWAIyRHWc",
    "outputId": "5ed36b7e-5eb1-49d2-aa5d-03e21cbb1a0d"
   },
   "outputs": [
    {
     "name": "stdout",
     "output_type": "stream",
     "text": [
      " Volume in drive F is HDD2\n",
      " Volume Serial Number is A29E-CD8F\n"
     ]
    },
    {
     "name": "stderr",
     "output_type": "stream",
     "text": [
      "File Not Found\n"
     ]
    },
    {
     "name": "stdout",
     "output_type": "stream",
     "text": [
      "\n",
      " Directory of F:\\OneDrive\\Courses\\CMPT 412\\project2_package\n",
      "\n",
      "\n",
      " Directory of F:\\OneDrive\\Courses\\CMPT 412\\project2_package\n",
      "\n",
      "\n",
      " Directory of F:\\OneDrive\\Courses\\CMPT 412\\project2_package\n",
      "\n",
      "\n",
      " Directory of F:\\OneDrive\\Courses\\CMPT 412\\project2_package\n",
      "\n",
      "\n",
      " Directory of F:\\OneDrive\\Courses\\CMPT 412\\project2_package\n",
      "\n",
      "\n",
      " Directory of F:\\OneDrive\\Courses\\CMPT 412\\project2_package\n",
      "\n",
      "\n",
      " Directory of F:\\OneDrive\\Courses\\CMPT 412\\project2_package\n",
      "\n"
     ]
    }
   ],
   "source": [
    "ls # Check if this is your folder"
   ]
  },
  {
   "cell_type": "markdown",
   "metadata": {
    "id": "SJOCaUMilRz_"
   },
   "source": [
    "# Copy data to local dir"
   ]
  },
  {
   "cell_type": "code",
   "execution_count": 7,
   "metadata": {
    "executionInfo": {
     "elapsed": 40245,
     "status": "ok",
     "timestamp": 1602479962372,
     "user": {
      "displayName": "Tony Huang",
      "photoUrl": "https://lh3.googleusercontent.com/a-/AOh14GhWwH2445lPU35X9yaDUI7RSJxiPK7SrPD3nnbMtw=s64",
      "userId": "05965443642119660959"
     },
     "user_tz": 420
    },
    "id": "90MxG_eRla0W"
   },
   "outputs": [
    {
     "name": "stderr",
     "output_type": "stream",
     "text": [
      "The syntax of the command is incorrect.\n",
      "'cp' is not recognized as an internal or external command,\n",
      "operable program or batch file.\n",
      "tar: Error opening archive: Failed to open '/data/cifar100.tar.gz'\n",
      "'cp' is not recognized as an internal or external command,\n",
      "operable program or batch file.\n",
      "tar: Error opening archive: Failed to open '/data/test.tar.gz'\n",
      "'cp' is not recognized as an internal or external command,\n",
      "operable program or batch file.\n",
      "tar: Error opening archive: Failed to open '/data/train.tar.gz'\n"
     ]
    }
   ],
   "source": [
    "!mkdir /data\n",
    "!cp data/cifar100.tar.gz /data/\n",
    "!tar -xf /data/cifar100.tar.gz -C /data/\n",
    "!cp data/test.tar.gz /data\n",
    "!tar -xf /data/test.tar.gz -C /data\n",
    "!cp data/train.tar.gz /data\n",
    "!tar -xf /data/train.tar.gz -C /data/"
   ]
  },
  {
   "cell_type": "code",
   "execution_count": 6,
   "metadata": {
    "colab": {
     "base_uri": "https://localhost:8080/",
     "height": 35
    },
    "executionInfo": {
     "elapsed": 40239,
     "status": "ok",
     "timestamp": 1602479962374,
     "user": {
      "displayName": "Tony Huang",
      "photoUrl": "https://lh3.googleusercontent.com/a-/AOh14GhWwH2445lPU35X9yaDUI7RSJxiPK7SrPD3nnbMtw=s64",
      "userId": "05965443642119660959"
     },
     "user_tz": 420
    },
    "id": "XvFEFItpl98p",
    "outputId": "17e84ba4-1e5e-42cf-aaea-a6a3c35eaaaa"
   },
   "outputs": [
    {
     "name": "stdout",
     "output_type": "stream",
     "text": [
      "\u001b[0m\u001b[01;34mcifar100\u001b[0m/  cifar100.tar.gz  \u001b[01;34mtest\u001b[0m/  test.tar.gz  \u001b[01;34mtrain\u001b[0m/  train.tar.gz\n"
     ]
    }
   ],
   "source": [
    "ls /data"
   ]
  },
  {
   "cell_type": "markdown",
   "metadata": {
    "id": "DDU5aVgR9QBx"
   },
   "source": [
    "# Set up GPU and PyTorch\n",
    "\n",
    "First, ensure that your notebook on Colaboratory is set up to use GPU. After opening the notebook on Colaboratory, go to Edit>Notebook settings, select Python 3 under \"Runtime type,\" select GPU under \"Hardware accelerator,\" and save.\n",
    "\n",
    "Next, install PyTorch:"
   ]
  },
  {
   "cell_type": "code",
   "execution_count": 1,
   "metadata": {
    "colab": {
     "base_uri": "https://localhost:8080/",
     "height": 104
    },
    "executionInfo": {
     "elapsed": 43180,
     "status": "ok",
     "timestamp": 1602479965322,
     "user": {
      "displayName": "Tony Huang",
      "photoUrl": "https://lh3.googleusercontent.com/a-/AOh14GhWwH2445lPU35X9yaDUI7RSJxiPK7SrPD3nnbMtw=s64",
      "userId": "05965443642119660959"
     },
     "user_tz": 420
    },
    "id": "kjbQtzKT9Uc2",
    "outputId": "179ef6cb-ef04-470e-852f-3589f80420f0",
    "scrolled": true
   },
   "outputs": [
    {
     "name": "stdout",
     "output_type": "stream",
     "text": [
      "Requirement already satisfied: torch in c:\\users\\hzx01\\appdata\\local\\programs\\python\\python37\\lib\\site-packages (1.6.0)\n",
      "Requirement already satisfied: torchvision in c:\\users\\hzx01\\appdata\\local\\programs\\python\\python37\\lib\\site-packages (0.7.0)\n",
      "Requirement already satisfied: numpy in c:\\users\\hzx01\\appdata\\local\\programs\\python\\python37\\lib\\site-packages (from torch) (1.18.3)\n",
      "Requirement already satisfied: future in c:\\users\\hzx01\\appdata\\local\\programs\\python\\python37\\lib\\site-packages (from torch) (0.18.2)\n",
      "Requirement already satisfied: pillow>=4.1.1 in c:\\users\\hzx01\\appdata\\local\\programs\\python\\python37\\lib\\site-packages (from torchvision) (7.1.1)\n"
     ]
    }
   ],
   "source": [
    "!pip3 install torch torchvision"
   ]
  },
  {
   "cell_type": "markdown",
   "metadata": {
    "id": "u_BekZYY9Vzx"
   },
   "source": [
    "Make sure that pytorch is installed and works with GPU:"
   ]
  },
  {
   "cell_type": "code",
   "execution_count": 2,
   "metadata": {
    "colab": {
     "base_uri": "https://localhost:8080/",
     "height": 35
    },
    "executionInfo": {
     "elapsed": 58609,
     "status": "ok",
     "timestamp": 1602479980758,
     "user": {
      "displayName": "Tony Huang",
      "photoUrl": "https://lh3.googleusercontent.com/a-/AOh14GhWwH2445lPU35X9yaDUI7RSJxiPK7SrPD3nnbMtw=s64",
      "userId": "05965443642119660959"
     },
     "user_tz": 420
    },
    "id": "8TXSJWQa9efx",
    "outputId": "d677c7ad-bd64-462a-a2ae-192296af29fc"
   },
   "outputs": [
    {
     "name": "stdout",
     "output_type": "stream",
     "text": [
      "tensor([1.], device='cuda:0')\n"
     ]
    }
   ],
   "source": [
    "import torch\n",
    "a = torch.Tensor([1]).cuda()\n",
    "print(a)\n"
   ]
  },
  {
   "cell_type": "code",
   "execution_count": 3,
   "metadata": {
    "colab": {
     "base_uri": "https://localhost:8080/",
     "height": 35
    },
    "executionInfo": {
     "elapsed": 58603,
     "status": "ok",
     "timestamp": 1602479980759,
     "user": {
      "displayName": "Tony Huang",
      "photoUrl": "https://lh3.googleusercontent.com/a-/AOh14GhWwH2445lPU35X9yaDUI7RSJxiPK7SrPD3nnbMtw=s64",
      "userId": "05965443642119660959"
     },
     "user_tz": 420
    },
    "id": "OEeRNsCjRXZK",
    "outputId": "bfe48889-7f1c-43a3-c6d6-03e3f0e9b1b7"
   },
   "outputs": [
    {
     "data": {
      "text/plain": [
       "True"
      ]
     },
     "execution_count": 3,
     "metadata": {},
     "output_type": "execute_result"
    }
   ],
   "source": [
    "torch.cuda.is_available()"
   ]
  },
  {
   "cell_type": "markdown",
   "metadata": {
    "id": "qChgLJERsvZP"
   },
   "source": [
    "# Part 1"
   ]
  },
  {
   "cell_type": "code",
   "execution_count": 4,
   "metadata": {
    "colab": {
     "base_uri": "https://localhost:8080/",
     "height": 35
    },
    "executionInfo": {
     "elapsed": 58777,
     "status": "ok",
     "timestamp": 1602479980940,
     "user": {
      "displayName": "Tony Huang",
      "photoUrl": "https://lh3.googleusercontent.com/a-/AOh14GhWwH2445lPU35X9yaDUI7RSJxiPK7SrPD3nnbMtw=s64",
      "userId": "05965443642119660959"
     },
     "user_tz": 420
    },
    "id": "IlyCnvf6WzjR",
    "outputId": "73fbdfcc-f823-48a1-e8dc-6fae21b19ae6"
   },
   "outputs": [
    {
     "data": {
      "text/plain": [
       "<torch._C.Generator at 0x2315aab41f0>"
      ]
     },
     "execution_count": 4,
     "metadata": {},
     "output_type": "execute_result"
    }
   ],
   "source": [
    "\"\"\"Headers\"\"\"\n",
    "\n",
    "from __future__ import print_function\n",
    "from PIL import Image\n",
    "import os\n",
    "import os.path\n",
    "import numpy as np\n",
    "import sys\n",
    "if sys.version_info[0] == 2:\n",
    "    import cPickle as pickle\n",
    "else:\n",
    "    import pickle\n",
    "\n",
    "import torch.utils.data as data\n",
    "from torchvision.datasets.utils import download_url, check_integrity\n",
    "\n",
    "import csv\n",
    "%matplotlib inline\n",
    "import matplotlib\n",
    "import matplotlib.pyplot as plt\n",
    "import numpy as np\n",
    "import os.path\n",
    "import sys\n",
    "import torch\n",
    "import torch.utils.data\n",
    "import torchvision\n",
    "import torchvision.transforms as transforms\n",
    "\n",
    "from torch.autograd import Variable\n",
    "import torch.nn as nn\n",
    "import torch.nn.functional as F\n",
    "\n",
    "np.random.seed(111)\n",
    "torch.cuda.manual_seed_all(111)\n",
    "torch.manual_seed(111)"
   ]
  },
  {
   "cell_type": "markdown",
   "metadata": {
    "id": "137GhZMrcTuj"
   },
   "source": [
    "\n",
    "\n",
    "## **Just execute the cell below. This is the dataloader. DO NOT CHANGE ANYTHING IN HERE!**\n"
   ]
  },
  {
   "cell_type": "code",
   "execution_count": 11,
   "metadata": {
    "executionInfo": {
     "elapsed": 58976,
     "status": "ok",
     "timestamp": 1602479981141,
     "user": {
      "displayName": "Tony Huang",
      "photoUrl": "https://lh3.googleusercontent.com/a-/AOh14GhWwH2445lPU35X9yaDUI7RSJxiPK7SrPD3nnbMtw=s64",
      "userId": "05965443642119660959"
     },
     "user_tz": 420
    },
    "id": "URUH4fzzWqKr"
   },
   "outputs": [],
   "source": [
    "\"\"\"\"\"\"\n",
    "\n",
    "class CIFAR10_SFU_CV(data.Dataset):\n",
    "    \"\"\"`CIFAR10 <https://www.cs.toronto.edu/~kriz/cifar.html>`_ Dataset.\n",
    "\n",
    "    Args:\n",
    "        root (string): Root directory of dataset where directory\n",
    "            ``cifar-10-batches-py`` exists or will be saved to if download is set to True.\n",
    "        train (bool, optional): If True, creates dataset from training set, otherwise\n",
    "            creates from test set.\n",
    "        transform (callable, optional): A function/transform that  takes in an PIL image\n",
    "            and returns a transformed version. E.g, ``transforms.RandomCrop``\n",
    "        target_transform (callable, optional): A function/transform that takes in the\n",
    "            target and transforms it.\n",
    "        download (bool, optional): If true, downloads the dataset from the internet and\n",
    "            puts it in root directory. If dataset is already downloaded, it is not\n",
    "            downloaded again.\n",
    "\n",
    "    \"\"\"\n",
    "    base_folder = 'cifar100'\n",
    "    url = \"https://www.cs.toronto.edu/~kriz/cifar-10-python.tar.gz\"\n",
    "    filename = \"cifar100.tar.gz\"\n",
    "    tgz_md5 = 'c58f30108f718f92721af3b95e74349a'\n",
    "    train_list = [\n",
    "        ['data_batch_1', 'c99cafc152244af753f735de768cd75f'],\n",
    "        ['data_batch_2', 'd4bba439e000b95fd0a9bffe97cbabec'],\n",
    "        ['data_batch_3', '54ebc095f3ab1f0389bbae665268c751'],\n",
    "        ['data_batch_4', '634d18415352ddfa80567beed471001a'],\n",
    "        ['data_batch_5', '482c414d41f54cd18b22e5b47cb7c3cb'],\n",
    "    ]\n",
    "\n",
    "    test_list = [\n",
    "        ['test_batch', '40351d587109b95175f43aff81a1287e'],\n",
    "    ]\n",
    "\n",
    "    def __init__(self, root, fold=\"train\",\n",
    "                 transform=None, target_transform=None,\n",
    "                 download=False):\n",
    "        \n",
    "        fold = fold.lower()\n",
    "\n",
    "        self.train = False\n",
    "        self.test = False\n",
    "        self.val = False\n",
    "\n",
    "        if fold == \"train\":\n",
    "            self.train = True\n",
    "        elif fold == \"test\":\n",
    "            self.test = True\n",
    "        elif fold == \"val\":\n",
    "            self.val = True\n",
    "        else:\n",
    "            raise RuntimeError(\"Not train-val-test\")\n",
    "\n",
    "\n",
    "        self.root = os.path.expanduser(root)\n",
    "        self.transform = transform\n",
    "        self.target_transform = target_transform\n",
    "\n",
    "        fpath = os.path.join(root, self.filename)\n",
    "        if not self._check_integrity():\n",
    "            raise RuntimeError('Dataset not found or corrupted.' +\n",
    "                               ' Download it and extract the file again.')\n",
    "\n",
    "        # now load the picked numpy arrays\n",
    "        if self.train or self.val:\n",
    "            self.train_data = []\n",
    "            self.train_labels = []\n",
    "            for fentry in self.train_list:\n",
    "                f = fentry[0]\n",
    "                file = os.path.join(self.root, self.base_folder, f)\n",
    "                fo = open(file, 'rb')\n",
    "                if sys.version_info[0] == 2:\n",
    "                    entry = pickle.load(fo)\n",
    "                else:\n",
    "                    entry = pickle.load(fo, encoding='latin1')\n",
    "                self.train_data.append(entry['data'])\n",
    "                if 'labels' in entry:\n",
    "                    self.train_labels += entry['labels']\n",
    "                else:\n",
    "                    self.train_labels += entry['fine_labels']\n",
    "                fo.close()\n",
    "\n",
    "            self.train_data = np.concatenate(self.train_data)\n",
    "            self.train_data = self.train_data.reshape((50000, 3, 32, 32))\n",
    "            self.train_data = self.train_data.transpose((0, 2, 3, 1))  # convert to HWC\n",
    "            \n",
    "            p = np.arange(0,50000,10)\n",
    "            mask_train = np.ones((50000,), dtype=bool)\n",
    "            mask_train[p] = False\n",
    "            mask_val = np.zeros((50000,), dtype=bool)\n",
    "            mask_val[p] = True\n",
    "\n",
    "            copy_all_data = np.array(self.train_data)\n",
    "            self.val_data = np.array(copy_all_data[mask_val])\n",
    "            self.train_data = np.array(copy_all_data[mask_train])\n",
    "            \n",
    "            copy_all_labels = np.array(self.train_labels)\n",
    "            self.val_labels = np.array(copy_all_labels[mask_val])\n",
    "            self.train_labels = np.array(copy_all_labels[mask_train])\n",
    "\n",
    "        elif self.test:\n",
    "            f = self.test_list[0][0]\n",
    "            file = os.path.join(self.root, self.base_folder, f)\n",
    "            fo = open(file, 'rb')\n",
    "            if sys.version_info[0] == 2:\n",
    "                entry = pickle.load(fo)\n",
    "            else:\n",
    "                entry = pickle.load(fo, encoding='latin1')\n",
    "            self.test_data = entry['data']\n",
    "\n",
    "            if 'labels' in entry:\n",
    "                self.test_labels = entry['labels']\n",
    "            else:\n",
    "                self.test_labels = entry['fine_labels']\n",
    "            fo.close()\n",
    "            self.test_data = self.test_data.reshape((10000, 3, 32, 32))\n",
    "            self.test_data = self.test_data.transpose((0, 2, 3, 1))  # convert to HWC\n",
    "\n",
    "    def __getitem__(self, index):\n",
    "        \"\"\"\n",
    "        Args:\n",
    "            index (int): Index\n",
    "\n",
    "        Returns:\n",
    "            tuple: (image, target) where target is index of the target class.\n",
    "        \"\"\"\n",
    "        if self.train:\n",
    "            img, target = self.train_data[index], self.train_labels[index]\n",
    "        elif self.test:\n",
    "            img, target = self.test_data[index], self.test_labels[index]\n",
    "        elif self.val:\n",
    "            img, target = self.val_data[index], self.val_labels[index]\n",
    "\n",
    "        # doing this so that it is consistent with all other datasets\n",
    "        # to return a PIL Image\n",
    "        img = Image.fromarray(img)\n",
    "\n",
    "        if self.transform is not None:\n",
    "            img = self.transform(img)\n",
    "\n",
    "        if self.target_transform is not None:\n",
    "            target = self.target_transform(target)\n",
    "\n",
    "        return img, target\n",
    "\n",
    "    def __len__(self):\n",
    "        if self.train:\n",
    "            return len(self.train_data)\n",
    "        elif self.test:\n",
    "            return len(self.test_data)\n",
    "        elif self.val:\n",
    "            return len(self.val_data)\n",
    "\n",
    "    def _check_integrity(self):\n",
    "        root = self.root\n",
    "        for fentry in (self.train_list + self.test_list):\n",
    "            filename, md5 = fentry[0], fentry[1]\n",
    "            fpath = os.path.join(root, self.base_folder, filename)\n",
    "            if not check_integrity(fpath, md5):\n",
    "                return False\n",
    "        return True\n",
    "\n",
    "    def __repr__(self):\n",
    "        fmt_str = 'Dataset ' + self.__class__.__name__ + '\\n'\n",
    "        fmt_str += '    Number of datapoints: {}\\n'.format(self.__len__())\n",
    "        tmp = 'train' if self.train is True else 'test'\n",
    "        fmt_str += '    Split: {}\\n'.format(tmp)\n",
    "        fmt_str += '    Root Location: {}\\n'.format(self.root)\n",
    "        tmp = '    Transforms (if any): '\n",
    "        fmt_str += '{0}{1}\\n'.format(tmp, self.transform.__repr__().replace('\\n', '\\n' + ' ' * len(tmp)))\n",
    "        tmp = '    Target Transforms (if any): '\n",
    "        fmt_str += '{0}{1}'.format(tmp, self.target_transform.__repr__().replace('\\n', '\\n' + ' ' * len(tmp)))\n",
    "        return fmt_str\n",
    "\n",
    "\n",
    "class CIFAR100_SFU_CV(CIFAR10_SFU_CV):\n",
    "    \"\"\"`CIFAR100 <https://www.cs.toronto.edu/~kriz/cifar.html>`_ Dataset.\n",
    "\n",
    "    This is a subclass of the `CIFAR10` Dataset.\n",
    "    \"\"\"\n",
    "    base_folder = 'cifar100'\n",
    "    filename = \"cifar100.tar.gz\"\n",
    "    tgz_md5 = 'e68a4c763591787a0b39fe2209371f32'\n",
    "    train_list = [\n",
    "        ['train_cs543', '49eee854445c1e2ebe796cd93c20bb0f'],\n",
    "    ]\n",
    "\n",
    "    test_list = [\n",
    "        ['test_cs543', 'd3fe9f6a9251bd443f428f896d27384f'],\n",
    "    ]"
   ]
  },
  {
   "cell_type": "markdown",
   "metadata": {
    "id": "JpFMv7HtcII4"
   },
   "source": [
    "This file has been adapted from the easy-to-use tutorial released by PyTorch:\n",
    "http://pytorch.org/tutorials/beginner/blitz/cifar10_tutorial.html\n",
    "\n",
    "Training an image classifier\n",
    "----------------------------\n",
    "\n",
    "We will do the following steps in order:\n",
    "\n",
    "1. Load the CIFAR100_SFU_CV training, validation and test datasets using\n",
    "   torchvision. Use torchvision.transforms to apply transforms on the\n",
    "   dataset.\n",
    "2. Define a Convolution Neural Network - BaseNet\n",
    "3. Define a loss function and optimizer\n",
    "4. Train the network on training data and check performance on val set.\n",
    "   Plot train loss and validation accuracies.\n",
    "5. Try the network on test data and create .csv file for submission to kaggle"
   ]
  },
  {
   "cell_type": "code",
   "execution_count": 12,
   "metadata": {
    "executionInfo": {
     "elapsed": 58975,
     "status": "ok",
     "timestamp": 1602479981142,
     "user": {
      "displayName": "Tony Huang",
      "photoUrl": "https://lh3.googleusercontent.com/a-/AOh14GhWwH2445lPU35X9yaDUI7RSJxiPK7SrPD3nnbMtw=s64",
      "userId": "05965443642119660959"
     },
     "user_tz": 420
    },
    "id": "Ld6juH34dWWq"
   },
   "outputs": [],
   "source": [
    "# <<TODO#5>> Based on the val set performance, decide how many\n",
    "# epochs are apt for your model.\n",
    "# ---------\n",
    "EPOCHS = 50\n",
    "# ---------\n",
    "\n",
    "IS_GPU = True\n",
    "TEST_BS = 256\n",
    "TOTAL_CLASSES = 100\n",
    "TRAIN_BS = 32\n",
    "PATH_TO_CIFAR100_SFU_CV = \"/data/\""
   ]
  },
  {
   "cell_type": "code",
   "execution_count": 13,
   "metadata": {
    "colab": {
     "base_uri": "https://localhost:8080/",
     "height": 35
    },
    "executionInfo": {
     "elapsed": 59197,
     "status": "ok",
     "timestamp": 1602479981371,
     "user": {
      "displayName": "Tony Huang",
      "photoUrl": "https://lh3.googleusercontent.com/a-/AOh14GhWwH2445lPU35X9yaDUI7RSJxiPK7SrPD3nnbMtw=s64",
      "userId": "05965443642119660959"
     },
     "user_tz": 420
    },
    "id": "0ENlTTMi-qFD",
    "outputId": "eff1de5e-1c43-44f5-bdbf-cbd9557c6e63"
   },
   "outputs": [
    {
     "name": "stdout",
     "output_type": "stream",
     "text": [
      "test_cs543  train_cs543\n"
     ]
    }
   ],
   "source": [
    "ls /data/cifar100/"
   ]
  },
  {
   "cell_type": "code",
   "execution_count": 14,
   "metadata": {
    "executionInfo": {
     "elapsed": 59198,
     "status": "ok",
     "timestamp": 1602479981374,
     "user": {
      "displayName": "Tony Huang",
      "photoUrl": "https://lh3.googleusercontent.com/a-/AOh14GhWwH2445lPU35X9yaDUI7RSJxiPK7SrPD3nnbMtw=s64",
      "userId": "05965443642119660959"
     },
     "user_tz": 420
    },
    "id": "d57CSAj1dfix"
   },
   "outputs": [],
   "source": [
    "def calculate_val_accuracy(valloader, is_gpu):\n",
    "    \"\"\" Util function to calculate val set accuracy,\n",
    "    both overall and per class accuracy\n",
    "    Args:\n",
    "        valloader (torch.utils.data.DataLoader): val set \n",
    "        is_gpu (bool): whether to run on GPU\n",
    "    Returns:\n",
    "        tuple: (overall accuracy, class level accuracy)\n",
    "    \"\"\"    \n",
    "    correct = 0.\n",
    "    total = 0.\n",
    "    predictions = []\n",
    "\n",
    "    class_correct = list(0. for i in range(TOTAL_CLASSES))\n",
    "    class_total = list(0. for i in range(TOTAL_CLASSES))\n",
    "\n",
    "    for data in valloader:\n",
    "        images, labels = data\n",
    "        if is_gpu:\n",
    "            images = images.cuda()\n",
    "            labels = labels.cuda()\n",
    "        outputs = net(Variable(images))\n",
    "        _, predicted = torch.max(outputs.data, 1)\n",
    "        predictions.extend(list(predicted.cpu().numpy()))\n",
    "        total += labels.size(0)\n",
    "        correct += (predicted == labels).sum()\n",
    "\n",
    "        c = (predicted == labels).squeeze()\n",
    "        for i in range(len(labels)):\n",
    "            label = labels[i]\n",
    "            class_correct[label] += c[i]\n",
    "            class_total[label] += 1\n",
    "\n",
    "    class_accuracy = 100 * np.divide(class_correct, class_total)\n",
    "    return 100*correct/total, class_accuracy"
   ]
  },
  {
   "cell_type": "markdown",
   "metadata": {
    "id": "aq2qOUaJeAWJ"
   },
   "source": [
    "1.** Loading CIFAR100_SFU_CV**\n",
    "\n",
    "We modify the dataset to create CIFAR100_SFU_CV dataset which consist of 45000 training images (450 of each class), 5000 validation images (50 of each class) and 10000 test images (100 of each class). The train and val datasets have labels while all the labels in the test set are set to 0.\n"
   ]
  },
  {
   "cell_type": "code",
   "execution_count": 15,
   "metadata": {
    "colab": {
     "base_uri": "https://localhost:8080/",
     "height": 69
    },
    "executionInfo": {
     "elapsed": 66443,
     "status": "ok",
     "timestamp": 1602479988627,
     "user": {
      "displayName": "Tony Huang",
      "photoUrl": "https://lh3.googleusercontent.com/a-/AOh14GhWwH2445lPU35X9yaDUI7RSJxiPK7SrPD3nnbMtw=s64",
      "userId": "05965443642119660959"
     },
     "user_tz": 420
    },
    "id": "C2UcDZmtdfq3",
    "outputId": "b4daf6ba-e0d9-4615-e5e7-071cba765a99"
   },
   "outputs": [
    {
     "name": "stdout",
     "output_type": "stream",
     "text": [
      "Train set size: 45000\n",
      "Val set size: 5000\n",
      "Test set size: 10000\n"
     ]
    }
   ],
   "source": [
    "# The output of torchvision datasets are PILImage images of range [0, 1].\n",
    "# Using transforms.ToTensor(), transform them to Tensors of normalized range\n",
    "# [-1, 1].\n",
    "\n",
    "\n",
    "# <<TODO#1>> Use transforms.Normalize() with the right parameters to \n",
    "# make the data well conditioned (zero mean, std dev=1) for improved training.\n",
    "# <<TODO#2>> Try using transforms.RandomCrop() and/or transforms.RandomHorizontalFlip()\n",
    "# to augment training data.\n",
    "# After your edits, make sure that test_transform should have the same data\n",
    "# normalization parameters as train_transform\n",
    "# You shouldn't have any data augmentation in test_transform (val or test data is never augmented).\n",
    "# ---------------------\n",
    "\n",
    "train_transform = transforms.Compose(\n",
    "    [transforms.RandomCrop(32, padding=4),\n",
    "     transforms.RandomHorizontalFlip(),\n",
    "     transforms.ToTensor(),\n",
    "     transforms.Normalize((0.5, 0.5, 0.5), (0.5, 0.5, 0.5))])\n",
    "test_transform = transforms.Compose(\n",
    "    [transforms.ToTensor(),\n",
    "     transforms.Normalize((0.5, 0.5, 0.5), (0.5, 0.5, 0.5))])\n",
    "# ---------------------\n",
    "trainset = CIFAR100_SFU_CV(root=PATH_TO_CIFAR100_SFU_CV, fold=\"train\",\n",
    "                                        download=True, transform=train_transform)\n",
    "trainloader = torch.utils.data.DataLoader(trainset, batch_size=TRAIN_BS,\n",
    "                                          shuffle=True, num_workers=2)\n",
    "print(\"Train set size: \"+str(len(trainset)))\n",
    "\n",
    "valset = CIFAR100_SFU_CV(root=PATH_TO_CIFAR100_SFU_CV, fold=\"val\",\n",
    "                                       download=True, transform=test_transform)\n",
    "valloader = torch.utils.data.DataLoader(valset, batch_size=TEST_BS,\n",
    "                                         shuffle=False, num_workers=2)\n",
    "print(\"Val set size: \"+str(len(valset)))\n",
    "\n",
    "testset = CIFAR100_SFU_CV(root=PATH_TO_CIFAR100_SFU_CV, fold=\"test\",\n",
    "                                       download=True, transform=test_transform)\n",
    "testloader = torch.utils.data.DataLoader(testset, batch_size=TEST_BS,\n",
    "                                         shuffle=False, num_workers=2)\n",
    "print(\"Test set size: \"+str(len(testset)))\n",
    "\n",
    "# The 100 classes for CIFAR100\n",
    "classes = ['apple', 'aquarium_fish', 'baby', 'bear', 'beaver', 'bed', 'bee', 'beetle', 'bicycle', 'bottle', 'bowl', 'boy', 'bridge', 'bus', 'butterfly', 'camel', 'can', 'castle', 'caterpillar', 'cattle', 'chair', 'chimpanzee', 'clock', 'cloud', 'cockroach', 'couch', 'crab', 'crocodile', 'cup', 'dinosaur', 'dolphin', 'elephant', 'flatfish', 'forest', 'fox', 'girl', 'hamster', 'house', 'kangaroo', 'keyboard', 'lamp', 'lawn_mower', 'leopard', 'lion', 'lizard', 'lobster', 'man', 'maple_tree', 'motorcycle', 'mountain', 'mouse', 'mushroom', 'oak_tree', 'orange', 'orchid', 'otter', 'palm_tree', 'pear', 'pickup_truck', 'pine_tree', 'plain', 'plate', 'poppy', 'porcupine', 'possum', 'rabbit', 'raccoon', 'ray', 'road', 'rocket', 'rose', 'sea', 'seal', 'shark', 'shrew', 'skunk', 'skyscraper', 'snail', 'snake', 'spider', 'squirrel', 'streetcar', 'sunflower', 'sweet_pepper', 'table', 'tank', 'telephone', 'television', 'tiger', 'tractor', 'train', 'trout', 'tulip', 'turtle', 'wardrobe', 'whale', 'willow_tree', 'wolf', 'woman', 'worm']\n",
    "\n"
   ]
  },
  {
   "cell_type": "code",
   "execution_count": 22,
   "metadata": {
    "executionInfo": {
     "elapsed": 383,
     "status": "ok",
     "timestamp": 1602483073621,
     "user": {
      "displayName": "Tony Huang",
      "photoUrl": "https://lh3.googleusercontent.com/a-/AOh14GhWwH2445lPU35X9yaDUI7RSJxiPK7SrPD3nnbMtw=s64",
      "userId": "05965443642119660959"
     },
     "user_tz": 420
    },
    "id": "5b_fBznndp4W"
   },
   "outputs": [],
   "source": [
    "########################################################################\n",
    "# 2. Define a Convolution Neural Network\n",
    "# ^^^^^^^^^^^^^^^^^^^^^^^^^^^^^^^^^^^^^^\n",
    "# We provide a basic network that you should understand, run and\n",
    "# eventually improve\n",
    "# <<TODO>> Add more conv layers\n",
    "# <<TODO>> Add more fully connected (fc) layers\n",
    "# <<TODO>> Add regularization layers like Batchnorm.\n",
    "#          nn.BatchNorm2d after conv layers:\n",
    "#          http://pytorch.org/docs/master/nn.html#batchnorm2d\n",
    "#          nn.BatchNorm1d after fc layers:\n",
    "#          http://pytorch.org/docs/master/nn.html#batchnorm1d\n",
    "# This is a good resource for developing a CNN for classification:\n",
    "# http://cs231n.github.io/convolutional-networks/#layers\n",
    "\n",
    "\n",
    "import torch.nn as nn\n",
    "import torch.nn.functional as F\n",
    "\n",
    "class BaseNet(nn.Module):\n",
    "    def __init__(self):\n",
    "        super(BaseNet, self).__init__()\n",
    "        \n",
    "        # <<TODO#3>> Add more conv layers with increasing \n",
    "        # output channels\n",
    "        # <<TODO#4>> Add normalization layers after conv\n",
    "        # layers (nn.BatchNorm2d)\n",
    "\n",
    "        # Also experiment with kernel size in conv2d layers (say 3\n",
    "        # inspired from VGGNet)\n",
    "        # To keep it simple, keep the same kernel size\n",
    "        # (right now set to 5) in all conv layers.\n",
    "        # Do not have a maxpool layer after every conv layer in your\n",
    "        # deeper network as it leads to too much loss of information.\n",
    "\n",
    "        # self.conv1 = nn.Conv2d(3, 6, 5)\n",
    "        # self.pool = nn.MaxPool2d(2, 2)\n",
    "        # self.conv2 = nn.Conv2d(6, 16, 5)\n",
    "\n",
    "        # <<TODO#3>> Add more linear (fc) layers\n",
    "        # <<TODO#4>> Add normalization layers after linear and\n",
    "        # experiment inserting them before or after ReLU (nn.BatchNorm1d)\n",
    "        # More on nn.sequential:\n",
    "        # http://pytorch.org/docs/master/nn.html#torch.nn.Sequential\n",
    "        \n",
    "        self.layers = nn.Sequential(\n",
    "            nn.Conv2d(3, 64, 3, padding=1),\n",
    "            nn.BatchNorm2d(64),\n",
    "            nn.ReLU(),\n",
    "            nn.Conv2d(64, 64, 3, padding=1),\n",
    "            nn.BatchNorm2d(64),\n",
    "            nn.ReLU(),\n",
    "            nn.MaxPool2d(2, 2),\n",
    "            \n",
    "            nn.Conv2d(64, 128, 3, padding=1),\n",
    "            nn.BatchNorm2d(128),\n",
    "            nn.ReLU(),\n",
    "            nn.Conv2d(128, 128, 3, padding=1),\n",
    "            nn.BatchNorm2d(128),\n",
    "            nn.ReLU(),\n",
    "            nn.MaxPool2d(2, 2),\n",
    "            \n",
    "            nn.Conv2d(128, 256, 3, padding=1),\n",
    "            nn.BatchNorm2d(256),\n",
    "            nn.ReLU(),\n",
    "            nn.Conv2d(256, 256, 3, padding=1),\n",
    "            nn.BatchNorm2d(256),\n",
    "            nn.ReLU(),\n",
    "            nn.Conv2d(256, 256, 3, padding=1),\n",
    "            nn.BatchNorm2d(256),\n",
    "            nn.ReLU(),\n",
    "            nn.MaxPool2d(2, 2),\n",
    "            \n",
    "            nn.Conv2d(256, 512, 3, padding=1),\n",
    "            nn.BatchNorm2d(512),\n",
    "            nn.ReLU(),\n",
    "            nn.Conv2d(512, 512, 3, padding=1),\n",
    "            nn.BatchNorm2d(512),\n",
    "            nn.ReLU(),\n",
    "            nn.Conv2d(512, 512, 3, padding=1),\n",
    "            nn.BatchNorm2d(512),\n",
    "            nn.ReLU(),\n",
    "            nn.MaxPool2d(2, 2),   \n",
    "        )\n",
    "\n",
    "        \n",
    "        self.fc_net = nn.Sequential(\n",
    "            # nn.Linear(16 * 5 * 5, TOTAL_CLASSES//2),\n",
    "            # nn.ReLU(inplace=True),\n",
    "            # nn.Linear(TOTAL_CLASSES//2, TOTAL_CLASSES),\n",
    "\n",
    "            nn.Linear(2048, 256),\n",
    "            nn.BatchNorm1d(256),\n",
    "            nn.ReLU(),\n",
    "\n",
    "            nn.Linear(256, 256),\n",
    "            nn.BatchNorm1d(256),\n",
    "            nn.ReLU(),\n",
    "\n",
    "            nn.Linear(256, TOTAL_CLASSES)\n",
    "        )\n",
    "\n",
    "    def forward(self, x):\n",
    "\n",
    "        # <<TODO#3&#4>> Based on the above edits, you'll have\n",
    "        # to edit the forward pass description here.\n",
    "        \n",
    "        #x = self.pool(F.relu(self.conv1(x)))\n",
    "        # Output size = 28//2 x 28//2 = 14 x 14\n",
    "\n",
    "        #x = self.pool(F.relu(self.conv2(x)))\n",
    "        # Output size = 10//2 x 10//2 = 5 x 5\n",
    "\n",
    "        # See the CS231 link to understand why this is 16*5*5!\n",
    "        # This will help you design your own deeper network\n",
    "        #x = x.view(-1, 16 * 5 * 5)\n",
    "        #x = self.fc_net(x)\n",
    "\n",
    "        # No softmax is needed as the loss function in step 3\n",
    "        # takes care of that\n",
    "\n",
    "        x = self.layers(x)\n",
    "        x = x.view(-1, 2048)\n",
    "        x = self.fc_net(x)\n",
    "        return x\n",
    "\n",
    "# Create an instance of the nn.module class defined above:\n",
    "net = BaseNet()\n",
    "\n",
    "# For training on GPU, we need to transfer net and data onto the GPU\n",
    "# http://pytorch.org/tutorials/beginner/blitz/cifar10_tutorial.html#training-on-gpu\n",
    "if IS_GPU:\n",
    "    net = net.cuda()"
   ]
  },
  {
   "cell_type": "code",
   "execution_count": 23,
   "metadata": {
    "executionInfo": {
     "elapsed": 381,
     "status": "ok",
     "timestamp": 1602483076019,
     "user": {
      "displayName": "Tony Huang",
      "photoUrl": "https://lh3.googleusercontent.com/a-/AOh14GhWwH2445lPU35X9yaDUI7RSJxiPK7SrPD3nnbMtw=s64",
      "userId": "05965443642119660959"
     },
     "user_tz": 420
    },
    "id": "zAZjIcLOdp-W"
   },
   "outputs": [],
   "source": [
    "########################################################################\n",
    "# 3. Define a Loss function and optimizer\n",
    "# ^^^^^^^^^^^^^^^^^^^^^^^^^^^^^^^^^^^^^^^\n",
    "# Here we use Cross-Entropy loss and SGD with momentum.\n",
    "# The CrossEntropyLoss criterion already includes softmax within its\n",
    "# implementation. That's why we don't use a softmax in our model\n",
    "# definition.\n",
    "\n",
    "import torch.optim as optim\n",
    "criterion = nn.CrossEntropyLoss()\n",
    "\n",
    "# Tune the learning rate.\n",
    "# See whether the momentum is useful or not\n",
    "optimizer = optim.SGD(net.parameters(), lr=0.005, momentum=0.9)\n",
    "\n",
    "plt.ioff()\n",
    "fig = plt.figure()\n",
    "train_loss_over_epochs = []\n",
    "val_accuracy_over_epochs = []\n"
   ]
  },
  {
   "cell_type": "code",
   "execution_count": 24,
   "metadata": {
    "colab": {
     "base_uri": "https://localhost:8080/",
     "height": 1000
    },
    "executionInfo": {
     "elapsed": 1494310,
     "status": "ok",
     "timestamp": 1602484571592,
     "user": {
      "displayName": "Tony Huang",
      "photoUrl": "https://lh3.googleusercontent.com/a-/AOh14GhWwH2445lPU35X9yaDUI7RSJxiPK7SrPD3nnbMtw=s64",
      "userId": "05965443642119660959"
     },
     "user_tz": 420
    },
    "id": "Ku7eF366dyUP",
    "outputId": "081cab67-cfe2-4105-9411-607a2c333d6e"
   },
   "outputs": [
    {
     "name": "stdout",
     "output_type": "stream",
     "text": [
      "[1] loss: 3.842\n",
      "Accuracy of the network on the val images: 17 %\n",
      "[2] loss: 3.150\n",
      "Accuracy of the network on the val images: 29 %\n",
      "[3] loss: 2.684\n",
      "Accuracy of the network on the val images: 34 %\n",
      "[4] loss: 2.352\n",
      "Accuracy of the network on the val images: 40 %\n",
      "[5] loss: 2.121\n",
      "Accuracy of the network on the val images: 44 %\n",
      "[6] loss: 1.937\n",
      "Accuracy of the network on the val images: 47 %\n",
      "[7] loss: 1.790\n",
      "Accuracy of the network on the val images: 50 %\n",
      "[8] loss: 1.666\n",
      "Accuracy of the network on the val images: 52 %\n",
      "[9] loss: 1.560\n",
      "Accuracy of the network on the val images: 53 %\n",
      "[10] loss: 1.472\n",
      "Accuracy of the network on the val images: 54 %\n",
      "[11] loss: 1.380\n",
      "Accuracy of the network on the val images: 56 %\n",
      "[12] loss: 1.313\n",
      "Accuracy of the network on the val images: 56 %\n",
      "[13] loss: 1.245\n",
      "Accuracy of the network on the val images: 56 %\n",
      "[14] loss: 1.168\n",
      "Accuracy of the network on the val images: 57 %\n",
      "[15] loss: 1.123\n",
      "Accuracy of the network on the val images: 59 %\n",
      "[16] loss: 1.059\n",
      "Accuracy of the network on the val images: 58 %\n",
      "[17] loss: 1.008\n",
      "Accuracy of the network on the val images: 58 %\n",
      "[18] loss: 0.955\n",
      "Accuracy of the network on the val images: 60 %\n",
      "[19] loss: 0.920\n",
      "Accuracy of the network on the val images: 61 %\n",
      "[20] loss: 0.868\n",
      "Accuracy of the network on the val images: 59 %\n",
      "[21] loss: 0.827\n",
      "Accuracy of the network on the val images: 60 %\n",
      "[22] loss: 0.780\n",
      "Accuracy of the network on the val images: 61 %\n",
      "[23] loss: 0.741\n",
      "Accuracy of the network on the val images: 62 %\n",
      "[24] loss: 0.710\n",
      "Accuracy of the network on the val images: 62 %\n",
      "[25] loss: 0.672\n",
      "Accuracy of the network on the val images: 62 %\n",
      "[26] loss: 0.643\n",
      "Accuracy of the network on the val images: 62 %\n",
      "[27] loss: 0.600\n",
      "Accuracy of the network on the val images: 62 %\n",
      "[28] loss: 0.577\n",
      "Accuracy of the network on the val images: 62 %\n",
      "[29] loss: 0.543\n",
      "Accuracy of the network on the val images: 62 %\n",
      "[30] loss: 0.522\n",
      "Accuracy of the network on the val images: 62 %\n",
      "[31] loss: 0.489\n",
      "Accuracy of the network on the val images: 61 %\n",
      "[32] loss: 0.472\n",
      "Accuracy of the network on the val images: 62 %\n",
      "[33] loss: 0.444\n",
      "Accuracy of the network on the val images: 63 %\n",
      "[34] loss: 0.423\n",
      "Accuracy of the network on the val images: 63 %\n",
      "[35] loss: 0.400\n",
      "Accuracy of the network on the val images: 62 %\n",
      "[36] loss: 0.377\n",
      "Accuracy of the network on the val images: 62 %\n",
      "[37] loss: 0.359\n",
      "Accuracy of the network on the val images: 62 %\n",
      "[38] loss: 0.350\n",
      "Accuracy of the network on the val images: 62 %\n",
      "[39] loss: 0.320\n",
      "Accuracy of the network on the val images: 62 %\n",
      "[40] loss: 0.314\n",
      "Accuracy of the network on the val images: 62 %\n",
      "[41] loss: 0.296\n",
      "Accuracy of the network on the val images: 63 %\n",
      "[42] loss: 0.272\n",
      "Accuracy of the network on the val images: 63 %\n",
      "[43] loss: 0.278\n",
      "Accuracy of the network on the val images: 63 %\n",
      "[44] loss: 0.271\n",
      "Accuracy of the network on the val images: 62 %\n",
      "[45] loss: 0.249\n",
      "Accuracy of the network on the val images: 63 %\n",
      "[46] loss: 0.235\n",
      "Accuracy of the network on the val images: 63 %\n",
      "[47] loss: 0.231\n",
      "Accuracy of the network on the val images: 63 %\n",
      "[48] loss: 0.217\n",
      "Accuracy of the network on the val images: 63 %\n",
      "[49] loss: 0.214\n",
      "Accuracy of the network on the val images: 63 %\n",
      "[50] loss: 0.201\n",
      "Accuracy of the network on the val images: 63 %\n",
      "Finished Training\n"
     ]
    }
   ],
   "source": [
    "########################################################################\n",
    "# 4. Train the network\n",
    "# ^^^^^^^^^^^^^^^^^^^^\n",
    "#\n",
    "# We simply have to loop over our data iterator, and feed the inputs to the\n",
    "# network and optimize. We evaluate the validation accuracy at each\n",
    "# epoch and plot these values over the number of epochs\n",
    "# Nothing to change here\n",
    "# -----------------------------\n",
    "for epoch in range(EPOCHS):  # loop over the dataset multiple times\n",
    "\n",
    "    running_loss = 0.0\n",
    "    for i, data in enumerate(trainloader, 0):\n",
    "        # get the inputs\n",
    "        inputs, labels = data\n",
    "\n",
    "        if IS_GPU:\n",
    "            inputs = inputs.cuda()\n",
    "            labels = labels.cuda()\n",
    "\n",
    "        # wrap them in Variable\n",
    "        inputs, labels = Variable(inputs), Variable(labels)\n",
    "\n",
    "        # zero the parameter gradients\n",
    "        optimizer.zero_grad()\n",
    "\n",
    "        # forward + backward + optimize\n",
    "        outputs = net(inputs)\n",
    "        loss = criterion(outputs, labels)\n",
    "        loss.backward()\n",
    "        optimizer.step()\n",
    "\n",
    "        # print statistics\n",
    "        running_loss += loss.item()\n",
    "    \n",
    "    # Normalizing the loss by the total number of train batches\n",
    "    running_loss/=len(trainloader)\n",
    "    print('[%d] loss: %.3f' %\n",
    "          (epoch + 1, running_loss))\n",
    "\n",
    "    # Scale of 0.0 to 100.0\n",
    "    # Calculate validation set accuracy of the existing model\n",
    "    val_accuracy, val_classwise_accuracy = \\\n",
    "        calculate_val_accuracy(valloader, IS_GPU)\n",
    "    print('Accuracy of the network on the val images: %d %%' % (val_accuracy))\n",
    "\n",
    "    # # Optionally print classwise accuracies\n",
    "    # for c_i in range(TOTAL_CLASSES):\n",
    "    #     print('Accuracy of %5s : %2d %%' % (\n",
    "    #         classes[c_i], 100 * val_classwise_accuracy[c_i]))\n",
    "\n",
    "    train_loss_over_epochs.append(running_loss)\n",
    "    val_accuracy_over_epochs.append(val_accuracy)\n",
    "# -----------------------------\n",
    "\n",
    "\n",
    "# Plot train loss over epochs and val set accuracy over epochs\n",
    "# Nothing to change here\n",
    "# -------------\n",
    "plt.subplot(2, 1, 1)\n",
    "plt.ylabel('Train loss')\n",
    "plt.plot(np.arange(EPOCHS), train_loss_over_epochs, 'k-')\n",
    "plt.title('train loss and val accuracy')\n",
    "plt.xticks(np.arange(EPOCHS, dtype=int))\n",
    "plt.grid(True)\n",
    "\n",
    "plt.subplot(2, 1, 2)\n",
    "plt.plot(np.arange(EPOCHS), val_accuracy_over_epochs, 'b-')\n",
    "plt.ylabel('Val accuracy')\n",
    "plt.xlabel('Epochs')\n",
    "plt.xticks(np.arange(EPOCHS, dtype=int))\n",
    "plt.grid(True)\n",
    "plt.savefig(\"plot.png\")\n",
    "plt.close(fig)\n",
    "print('Finished Training')\n",
    "# -------------"
   ]
  },
  {
   "cell_type": "code",
   "execution_count": 25,
   "metadata": {
    "executionInfo": {
     "elapsed": 3292,
     "status": "ok",
     "timestamp": 1602484589185,
     "user": {
      "displayName": "Tony Huang",
      "photoUrl": "https://lh3.googleusercontent.com/a-/AOh14GhWwH2445lPU35X9yaDUI7RSJxiPK7SrPD3nnbMtw=s64",
      "userId": "05965443642119660959"
     },
     "user_tz": 420
    },
    "id": "v1GE8t3mRdy9"
   },
   "outputs": [],
   "source": [
    "########################################################################\n",
    "# 5. Try the network on test data, and create .csv file\n",
    "# ^^^^^^^^^^^^^^^^^^^^^^^^^^^^^^^^^^^^^^^^^^^^^^^^^^^^^\n",
    "########################################################################\n",
    "\n",
    "# Check out why .eval() is important!\n",
    "# https://discuss.pytorch.org/t/model-train-and-model-eval-vs-model-and-model-eval/5744/2\n",
    "net.eval()\n",
    "\n",
    "total = 0\n",
    "predictions = []\n",
    "for data in testloader:\n",
    "    images, labels = data\n",
    "\n",
    "    # For training on GPU, we need to transfer net and data onto the GPU\n",
    "    # http://pytorch.org/tutorials/beginner/blitz/cifar10_tutorial.html#training-on-gpu\n",
    "    if IS_GPU:\n",
    "        images = images.cuda()\n",
    "        labels = labels.cuda()\n",
    "    \n",
    "    outputs = net(Variable(images))\n",
    "    _, predicted = torch.max(outputs.data, 1)\n",
    "    predictions.extend(list(predicted.cpu().numpy()))\n",
    "    total += labels.size(0)\n",
    "\n",
    "with open('submission_netid.csv', 'w') as csvfile:\n",
    "    wr = csv.writer(csvfile, quoting=csv.QUOTE_ALL)\n",
    "    wr.writerow([\"Id\", \"Prediction1\"])\n",
    "    for l_i, label in enumerate(predictions):\n",
    "        wr.writerow([str(l_i), str(label)])\n"
   ]
  },
  {
   "cell_type": "markdown",
   "metadata": {
    "id": "og2F2MLhs7L6"
   },
   "source": [
    "# Part 2"
   ]
  },
  {
   "cell_type": "code",
   "execution_count": 26,
   "metadata": {
    "executionInfo": {
     "elapsed": 391,
     "status": "ok",
     "timestamp": 1602484610908,
     "user": {
      "displayName": "Tony Huang",
      "photoUrl": "https://lh3.googleusercontent.com/a-/AOh14GhWwH2445lPU35X9yaDUI7RSJxiPK7SrPD3nnbMtw=s64",
      "userId": "05965443642119660959"
     },
     "user_tz": 420
    },
    "id": "prD0eXGpdoCR"
   },
   "outputs": [],
   "source": [
    "\"\"\"Headers\"\"\"\n",
    "import os\n",
    "import os.path as osp\n",
    "import time\n",
    "\n",
    "%matplotlib inline\n",
    "import matplotlib.pyplot as plt\n",
    "\n",
    "import torch\n",
    "import torch.nn as nn\n",
    "import torchvision.models as models\n",
    "import torch.optim as optim\n",
    "\n",
    "from torchvision import datasets"
   ]
  },
  {
   "cell_type": "markdown",
   "metadata": {
    "id": "P6CJz7OM0J9Z"
   },
   "source": [
    "# Pre-Trained Model\n",
    "\n",
    "TODO1. Load pretrained resnet model. Experiment with different models. \n",
    "\n",
    "TODO2: Replace last fc layer\n",
    "\n",
    "TODO3. Forward pass"
   ]
  },
  {
   "cell_type": "code",
   "execution_count": 27,
   "metadata": {
    "executionInfo": {
     "elapsed": 366,
     "status": "ok",
     "timestamp": 1602484612906,
     "user": {
      "displayName": "Tony Huang",
      "photoUrl": "https://lh3.googleusercontent.com/a-/AOh14GhWwH2445lPU35X9yaDUI7RSJxiPK7SrPD3nnbMtw=s64",
      "userId": "05965443642119660959"
     },
     "user_tz": 420
    },
    "id": "HUdo6AkH0maX"
   },
   "outputs": [],
   "source": [
    "class PreTrainedResNet(nn.Module):\n",
    "  def __init__(self, num_classes, feature_extracting):\n",
    "    super(PreTrainedResNet, self).__init__()\n",
    "    \n",
    "    #TODO1: Load pre-trained ResNet Model\n",
    "    self.resnet18 = models.resnet18(pretrained=True)\n",
    "\n",
    "    #Set gradients to false\n",
    "    if feature_extracting:\n",
    "      for param in self.resnet18.parameters():\n",
    "          param.requires_grad = False\n",
    "    \n",
    "    #Replace last fc layer\n",
    "    num_feats = self.resnet18.fc.in_features\n",
    "    \n",
    "    #TODO2: Replace fc layer in resnet to a linear layer of size (num_feats, num_classes)\n",
    "    self.resnet18.fc = torch.nn.Linear(num_feats, num_classes)\n",
    "    \n",
    "  def forward(self, x):\n",
    "    #TODO3: Forward pass x through the model\n",
    "    x = self.resnet18(x)\n",
    "    return x"
   ]
  },
  {
   "cell_type": "markdown",
   "metadata": {
    "id": "Y_DRbNt8Jask"
   },
   "source": [
    "# Train"
   ]
  },
  {
   "cell_type": "code",
   "execution_count": 28,
   "metadata": {
    "executionInfo": {
     "elapsed": 378,
     "status": "ok",
     "timestamp": 1602484614442,
     "user": {
      "displayName": "Tony Huang",
      "photoUrl": "https://lh3.googleusercontent.com/a-/AOh14GhWwH2445lPU35X9yaDUI7RSJxiPK7SrPD3nnbMtw=s64",
      "userId": "05965443642119660959"
     },
     "user_tz": 420
    },
    "id": "ujUNEVsEvWwv"
   },
   "outputs": [],
   "source": [
    "def train(model, optimizer, criterion, epoch, num_epochs):\n",
    "  model.train()\n",
    "  epoch_loss = 0.0\n",
    "  epoch_acc = 0.0\n",
    "  \n",
    "  for batch_idx, (images, labels) in enumerate(dataloaders['train']):\n",
    "    #zero the parameter gradients\n",
    "    optimizer.zero_grad()\n",
    "    \n",
    "    #move to GPU\n",
    "    images, labels = images.cuda(), labels.cuda()\n",
    "    \n",
    "    #forward\n",
    "    outputs = model.forward(images)\n",
    "    \n",
    "    loss = criterion(outputs, labels)\n",
    "    \n",
    "    _, preds = torch.max(outputs.data, 1)\n",
    "    \n",
    "    loss.backward()\n",
    "    optimizer.step()\n",
    "    \n",
    "    epoch_loss += loss.item()\n",
    "    epoch_acc += torch.sum(preds == labels).item()\n",
    "    \n",
    "  epoch_loss /= dataset_sizes['train']\n",
    "  epoch_acc /= dataset_sizes['train']\n",
    "  \n",
    "  print('TRAINING Epoch %d/%d Loss %.4f Accuracy %.4f' % (epoch, num_epochs, epoch_loss, epoch_acc))"
   ]
  },
  {
   "cell_type": "markdown",
   "metadata": {
    "id": "mAbNgE4r7vm-"
   },
   "source": [
    "# Main\n",
    "\n",
    "1. Vary hyperparams\n",
    "2. Data augmentation"
   ]
  },
  {
   "cell_type": "code",
   "execution_count": 29,
   "metadata": {
    "colab": {
     "base_uri": "https://localhost:8080/",
     "height": 465,
     "referenced_widgets": [
      "c3df261e0e1d44d8b0741d91b4681db6",
      "68fae75bf494401cbe894fff70a04f3c",
      "7270579eea494db3a9f4488719a2233f",
      "17a28652356f40e39f88d80409f22f63",
      "783df4d7950d473e8fc1a2ddd4b6ce21",
      "c6a9f5cde2c749df9afa887a4f1bf933",
      "4bc52efe40554283993404bdebece5d1",
      "239bb342cb974fadad25dc1da7e3096a"
     ]
    },
    "executionInfo": {
     "elapsed": 511194,
     "status": "ok",
     "timestamp": 1602485127732,
     "user": {
      "displayName": "Tony Huang",
      "photoUrl": "https://lh3.googleusercontent.com/a-/AOh14GhWwH2445lPU35X9yaDUI7RSJxiPK7SrPD3nnbMtw=s64",
      "userId": "05965443642119660959"
     },
     "user_tz": 420
    },
    "id": "oZkI3scVWjOQ",
    "outputId": "74bf2890-9715-4e05-be74-9850567f561d"
   },
   "outputs": [
    {
     "name": "stderr",
     "output_type": "stream",
     "text": [
      "Downloading: \"https://download.pytorch.org/models/resnet18-5c106cde.pth\" to /root/.cache/torch/hub/checkpoints/resnet18-5c106cde.pth\n"
     ]
    },
    {
     "data": {
      "application/vnd.jupyter.widget-view+json": {
       "model_id": "c3df261e0e1d44d8b0741d91b4681db6",
       "version_major": 2,
       "version_minor": 0
      },
      "text/plain": [
       "HBox(children=(FloatProgress(value=0.0, max=46827520.0), HTML(value='')))"
      ]
     },
     "metadata": {
      "tags": []
     },
     "output_type": "display_data"
    },
    {
     "name": "stdout",
     "output_type": "stream",
     "text": [
      "\n",
      "TRAINING Epoch 1/20 Loss 0.1656 Accuracy 0.0160\n",
      "TRAINING Epoch 2/20 Loss 0.1424 Accuracy 0.1130\n",
      "TRAINING Epoch 3/20 Loss 0.1197 Accuracy 0.2587\n",
      "TRAINING Epoch 4/20 Loss 0.1020 Accuracy 0.3850\n",
      "TRAINING Epoch 5/20 Loss 0.0876 Accuracy 0.4847\n",
      "TRAINING Epoch 6/20 Loss 0.0769 Accuracy 0.5460\n",
      "TRAINING Epoch 7/20 Loss 0.0690 Accuracy 0.5953\n",
      "TRAINING Epoch 8/20 Loss 0.0613 Accuracy 0.6463\n",
      "TRAINING Epoch 9/20 Loss 0.0552 Accuracy 0.6927\n",
      "TRAINING Epoch 10/20 Loss 0.0497 Accuracy 0.7263\n",
      "TRAINING Epoch 11/20 Loss 0.0453 Accuracy 0.7570\n",
      "TRAINING Epoch 12/20 Loss 0.0401 Accuracy 0.7833\n",
      "TRAINING Epoch 13/20 Loss 0.0388 Accuracy 0.7893\n",
      "TRAINING Epoch 14/20 Loss 0.0359 Accuracy 0.8130\n",
      "TRAINING Epoch 15/20 Loss 0.0329 Accuracy 0.8253\n",
      "TRAINING Epoch 16/20 Loss 0.0313 Accuracy 0.8357\n",
      "TRAINING Epoch 17/20 Loss 0.0288 Accuracy 0.8447\n",
      "TRAINING Epoch 18/20 Loss 0.0285 Accuracy 0.8410\n",
      "TRAINING Epoch 19/20 Loss 0.0256 Accuracy 0.8670\n",
      "TRAINING Epoch 20/20 Loss 0.0253 Accuracy 0.8610\n",
      "Finished Training\n",
      "----------\n"
     ]
    }
   ],
   "source": [
    "#TODO: Vary Hyperparams\n",
    "\n",
    "NUM_EPOCHS = 20\n",
    "LEARNING_RATE = 0.002 \n",
    "BATCH_SIZE = 32\n",
    "RESNET_LAST_ONLY = False #Fine tunes only the last layer. Set to False to fine tune entire network\n",
    "\n",
    "root_path = '/data/' #If your data is in a different folder, set the path accodordingly\n",
    "\n",
    "data_transforms = {\n",
    "    'train': transforms.Compose([\n",
    "        transforms.Resize(256),\n",
    "        #transforms.CenterCrop(224),\n",
    "        #TODO: Transforms.RandomResizedCrop() instead of CenterCrop(), RandomRoate() and Horizontal Flip()\n",
    "        transforms.RandomResizedCrop(256),\n",
    "        transforms.ToTensor(),\n",
    "        #TODO: Transforms.Normalize()\n",
    "        transforms.Normalize((0.5, 0.5, 0.5), (0.5, 0.5, 0.5))\n",
    "    ]),\n",
    "    'test': transforms.Compose([\n",
    "        transforms.Resize(256),\n",
    "        transforms.CenterCrop(224),\n",
    "        transforms.ToTensor(),\n",
    "        #TODO: Transforms.Normalize()\n",
    "        transforms.Normalize((0.5, 0.5, 0.5), (0.5, 0.5, 0.5))\n",
    "    ]),\n",
    "}\n",
    "\n",
    "# loading datasets with PyTorch ImageFolder\n",
    "image_datasets = {x: datasets.ImageFolder(os.path.join(root_path, x),\n",
    "                                          data_transforms[x])\n",
    "                  for x in ['train', 'test']}\n",
    "\n",
    "# defining data loaders to load data using image_datasets and transforms, here we also specify batch size for the mini batch\n",
    "dataloaders = {x: torch.utils.data.DataLoader(image_datasets[x], batch_size=BATCH_SIZE,\n",
    "                                             shuffle=True, num_workers=4)\n",
    "              for x in ['train', 'test']}\n",
    "\n",
    "dataset_sizes = {x: len(image_datasets[x]) for x in ['train', 'test']}\n",
    "class_names = image_datasets['train'].classes\n",
    "\n",
    "#Initialize the model\n",
    "model = PreTrainedResNet(len(class_names), RESNET_LAST_ONLY)\n",
    "model = model.cuda()\n",
    "\n",
    "#Setting the optimizer and loss criterion\n",
    "optimizer = optim.SGD(model.parameters(), lr=LEARNING_RATE, momentum=0.9)\n",
    "criterion = nn.CrossEntropyLoss()\n",
    "\n",
    "#Begin Train\n",
    "for epoch in range(NUM_EPOCHS):\n",
    "  train(model, optimizer, criterion, epoch+1, NUM_EPOCHS)\n",
    "  \n",
    "print(\"Finished Training\")\n",
    "print(\"-\"*10)"
   ]
  },
  {
   "cell_type": "markdown",
   "metadata": {
    "id": "DEbsnh3a7ljw"
   },
   "source": [
    "# Test"
   ]
  },
  {
   "cell_type": "code",
   "execution_count": 30,
   "metadata": {
    "executionInfo": {
     "elapsed": 366,
     "status": "ok",
     "timestamp": 1602485228929,
     "user": {
      "displayName": "Tony Huang",
      "photoUrl": "https://lh3.googleusercontent.com/a-/AOh14GhWwH2445lPU35X9yaDUI7RSJxiPK7SrPD3nnbMtw=s64",
      "userId": "05965443642119660959"
     },
     "user_tz": 420
    },
    "id": "4wyYKmQ91woU"
   },
   "outputs": [],
   "source": [
    "def test(model, criterion, repeats=2):\n",
    "  model.eval()\n",
    "  \n",
    "  test_loss = 0.0\n",
    "  test_acc = 0.0\n",
    "  \n",
    "  with torch.no_grad():\n",
    "    for itr in range(repeats):\n",
    "      for batch_idx, (images, labels) in enumerate(dataloaders['test']):\n",
    "        #move to GPU\n",
    "        images, labels = images.cuda(), labels.cuda()\n",
    "\n",
    "        #forward\n",
    "        outputs = model.forward(images)\n",
    "\n",
    "        loss = criterion(outputs, labels)\n",
    "\n",
    "        _, preds = torch.max(outputs.data, 1)\n",
    "\n",
    "        test_loss += loss.item()\n",
    "        test_acc += torch.sum(preds == labels).item()\n",
    "\n",
    "    test_loss /= (dataset_sizes['test']*repeats)\n",
    "    test_acc /= (dataset_sizes['test']*repeats)\n",
    "\n",
    "    print('Test Loss: %.4f Test Accuracy %.4f' % (test_loss, test_acc))\n"
   ]
  },
  {
   "cell_type": "code",
   "execution_count": 31,
   "metadata": {
    "colab": {
     "base_uri": "https://localhost:8080/",
     "height": 35
    },
    "executionInfo": {
     "elapsed": 33834,
     "status": "ok",
     "timestamp": 1602485264528,
     "user": {
      "displayName": "Tony Huang",
      "photoUrl": "https://lh3.googleusercontent.com/a-/AOh14GhWwH2445lPU35X9yaDUI7RSJxiPK7SrPD3nnbMtw=s64",
      "userId": "05965443642119660959"
     },
     "user_tz": 420
    },
    "id": "znXWR6oWyl-B",
    "outputId": "7cd2fc82-7e2e-42be-8848-9f5022ffe4c9"
   },
   "outputs": [
    {
     "name": "stdout",
     "output_type": "stream",
     "text": [
      "Test Loss: 0.0523 Test Accuracy 0.5582\n"
     ]
    }
   ],
   "source": [
    "test(model, criterion)"
   ]
  },
  {
   "cell_type": "markdown",
   "metadata": {
    "id": "kNX2g3AYUbM2"
   },
   "source": [
    "# Visualizing the model predictions\n",
    "\n",
    "Only for viusalizing. Nothing to be done here. "
   ]
  },
  {
   "cell_type": "code",
   "execution_count": 32,
   "metadata": {
    "executionInfo": {
     "elapsed": 394,
     "status": "ok",
     "timestamp": 1602485361904,
     "user": {
      "displayName": "Tony Huang",
      "photoUrl": "https://lh3.googleusercontent.com/a-/AOh14GhWwH2445lPU35X9yaDUI7RSJxiPK7SrPD3nnbMtw=s64",
      "userId": "05965443642119660959"
     },
     "user_tz": 420
    },
    "id": "Zd_lkTdoUaOX"
   },
   "outputs": [],
   "source": [
    "def imshow(inp, title=None):\n",
    "    \"\"\"Imshow for Tensor.\"\"\"\n",
    "    inp = inp.numpy().transpose((1, 2, 0))\n",
    "    inp = np.clip(inp, 0, 1)\n",
    "    plt.imshow(inp)\n",
    "    if title is not None:\n",
    "        plt.title(title)\n",
    "    plt.pause(1)  # pause a bit so that plots are updated\n",
    "    \n",
    "def visualize_model(model, num_images=8):\n",
    "    images_so_far = 0\n",
    "    fig = plt.figure()\n",
    "\n",
    "    for batch_idx, (images, labels) in enumerate(dataloaders['test']):\n",
    "        #move to GPU\n",
    "        images, labels = images.cuda(), labels.cuda()\n",
    "        \n",
    "        outputs = model(images)\n",
    "        \n",
    "        _, preds = torch.max(outputs.data, 1)\n",
    "       \n",
    "\n",
    "        for j in range(images.size()[0]):\n",
    "            images_so_far += 1\n",
    "            ax = plt.subplot(num_images//2, 2, images_so_far)\n",
    "            ax.axis('off')\n",
    "            ax.set_title('class: {} predicted: {}'.format(class_names[labels.data[j]], class_names[preds[j]]))\n",
    "\n",
    "            imshow(images.cpu().data[j])\n",
    "\n",
    "            if images_so_far == num_images:\n",
    "                return"
   ]
  },
  {
   "cell_type": "code",
   "execution_count": 33,
   "metadata": {
    "colab": {
     "base_uri": "https://localhost:8080/",
     "height": 633
    },
    "executionInfo": {
     "elapsed": 10247,
     "status": "ok",
     "timestamp": 1602485373357,
     "user": {
      "displayName": "Tony Huang",
      "photoUrl": "https://lh3.googleusercontent.com/a-/AOh14GhWwH2445lPU35X9yaDUI7RSJxiPK7SrPD3nnbMtw=s64",
      "userId": "05965443642119660959"
     },
     "user_tz": 420
    },
    "id": "sxjSnLKOJsTW",
    "outputId": "64d16e00-fb34-411e-cd37-e92b24c9334e"
   },
   "outputs": [
    {
     "data": {
      "image/png": "[encoded data removed]",
      "text/plain": [
       "<Figure size 432x288 with 1 Axes>"
      ]
     },
     "metadata": {
      "needs_background": "light",
      "tags": []
     },
     "output_type": "display_data"
    },
    {
     "data": {
      "image/png": "[encoded data removed]",
      "text/plain": [
       "<Figure size 432x288 with 1 Axes>"
      ]
     },
     "metadata": {
      "needs_background": "light",
      "tags": []
     },
     "output_type": "display_data"
    },
    {
     "data": {
      "image/png": "[encoded data removed]",
      "text/plain": [
       "<Figure size 432x288 with 1 Axes>"
      ]
     },
     "metadata": {
      "needs_background": "light",
      "tags": []
     },
     "output_type": "display_data"
    },
    {
     "data": {
      "image/png": "[encoded data removed]",
      "text/plain": [
       "<Figure size 432x288 with 1 Axes>"
      ]
     },
     "metadata": {
      "needs_background": "light",
      "tags": []
     },
     "output_type": "display_data"
    },
    {
     "data": {
      "image/png": "[encoded data removed]",
      "text/plain": [
       "<Figure size 432x288 with 1 Axes>"
      ]
     },
     "metadata": {
      "needs_background": "light",
      "tags": []
     },
     "output_type": "display_data"
    },
    {
     "data": {
      "image/png": "[encoded data removed]",
      "text/plain": [
       "<Figure size 432x288 with 1 Axes>"
      ]
     },
     "metadata": {
      "needs_background": "light",
      "tags": []
     },
     "output_type": "display_data"
    },
    {
     "data": {
      "image/png": "[encoded data removed]",
      "text/plain": [
       "<Figure size 432x288 with 1 Axes>"
      ]
     },
     "metadata": {
      "needs_background": "light",
      "tags": []
     },
     "output_type": "display_data"
    },
    {
     "data": {
      "image/png": "[encoded data removed]",
      "text/plain": [
       "<Figure size 432x288 with 1 Axes>"
      ]
     },
     "metadata": {
      "needs_background": "light",
      "tags": []
     },
     "output_type": "display_data"
    }
   ],
   "source": [
    "visualize_model(model)"
   ]
  }
 ],
 "metadata": {
  "accelerator": "GPU",
  "colab": {
   "collapsed_sections": [],
   "name": "Copy of lab2.ipynb",
   "provenance": []
  },
  "kernelspec": {
   "display_name": "Python 3",
   "language": "python",
   "name": "python3"
  },
  "language_info": {
   "codemirror_mode": {
    "name": "ipython",
    "version": 3
   },
   "file_extension": ".py",
   "mimetype": "text/x-python",
   "name": "python",
   "nbconvert_exporter": "python",
   "pygments_lexer": "ipython3",
   "version": "3.7.7"
  },
  "widgets": {
   "application/vnd.jupyter.widget-state+json": {
    "17a28652356f40e39f88d80409f22f63": {
     "model_module": "@jupyter-widgets/controls",
     "model_name": "HTMLModel",
     "state": {
      "_dom_classes": [],
      "_model_module": "@jupyter-widgets/controls",
      "_model_module_version": "1.5.0",
      "_model_name": "HTMLModel",
      "_view_count": null,
      "_view_module": "@jupyter-widgets/controls",
      "_view_module_version": "1.5.0",
      "_view_name": "HTMLView",
      "description": "",
      "description_tooltip": null,
      "layout": "IPY_MODEL_239bb342cb974fadad25dc1da7e3096a",
      "placeholder": "​",
      "style": "IPY_MODEL_4bc52efe40554283993404bdebece5d1",
      "value": " 44.7M/44.7M [00:00&lt;00:00, 178MB/s]"
     }
    },
    "239bb342cb974fadad25dc1da7e3096a": {
     "model_module": "@jupyter-widgets/base",
     "model_name": "LayoutModel",
     "state": {
      "_model_module": "@jupyter-widgets/base",
      "_model_module_version": "1.2.0",
      "_model_name": "LayoutModel",
      "_view_count": null,
      "_view_module": "@jupyter-widgets/base",
      "_view_module_version": "1.2.0",
      "_view_name": "LayoutView",
      "align_content": null,
      "align_items": null,
      "align_self": null,
      "border": null,
      "bottom": null,
      "display": null,
      "flex": null,
      "flex_flow": null,
      "grid_area": null,
      "grid_auto_columns": null,
      "grid_auto_flow": null,
      "grid_auto_rows": null,
      "grid_column": null,
      "grid_gap": null,
      "grid_row": null,
      "grid_template_areas": null,
      "grid_template_columns": null,
      "grid_template_rows": null,
      "height": null,
      "justify_content": null,
      "justify_items": null,
      "left": null,
      "margin": null,
      "max_height": null,
      "max_width": null,
      "min_height": null,
      "min_width": null,
      "object_fit": null,
      "object_position": null,
      "order": null,
      "overflow": null,
      "overflow_x": null,
      "overflow_y": null,
      "padding": null,
      "right": null,
      "top": null,
      "visibility": null,
      "width": null
     }
    },
    "4bc52efe40554283993404bdebece5d1": {
     "model_module": "@jupyter-widgets/controls",
     "model_name": "DescriptionStyleModel",
     "state": {
      "_model_module": "@jupyter-widgets/controls",
      "_model_module_version": "1.5.0",
      "_model_name": "DescriptionStyleModel",
      "_view_count": null,
      "_view_module": "@jupyter-widgets/base",
      "_view_module_version": "1.2.0",
      "_view_name": "StyleView",
      "description_width": ""
     }
    },
    "68fae75bf494401cbe894fff70a04f3c": {
     "model_module": "@jupyter-widgets/base",
     "model_name": "LayoutModel",
     "state": {
      "_model_module": "@jupyter-widgets/base",
      "_model_module_version": "1.2.0",
      "_model_name": "LayoutModel",
      "_view_count": null,
      "_view_module": "@jupyter-widgets/base",
      "_view_module_version": "1.2.0",
      "_view_name": "LayoutView",
      "align_content": null,
      "align_items": null,
      "align_self": null,
      "border": null,
      "bottom": null,
      "display": null,
      "flex": null,
      "flex_flow": null,
      "grid_area": null,
      "grid_auto_columns": null,
      "grid_auto_flow": null,
      "grid_auto_rows": null,
      "grid_column": null,
      "grid_gap": null,
      "grid_row": null,
      "grid_template_areas": null,
      "grid_template_columns": null,
      "grid_template_rows": null,
      "height": null,
      "justify_content": null,
      "justify_items": null,
      "left": null,
      "margin": null,
      "max_height": null,
      "max_width": null,
      "min_height": null,
      "min_width": null,
      "object_fit": null,
      "object_position": null,
      "order": null,
      "overflow": null,
      "overflow_x": null,
      "overflow_y": null,
      "padding": null,
      "right": null,
      "top": null,
      "visibility": null,
      "width": null
     }
    },
    "7270579eea494db3a9f4488719a2233f": {
     "model_module": "@jupyter-widgets/controls",
     "model_name": "FloatProgressModel",
     "state": {
      "_dom_classes": [],
      "_model_module": "@jupyter-widgets/controls",
      "_model_module_version": "1.5.0",
      "_model_name": "FloatProgressModel",
      "_view_count": null,
      "_view_module": "@jupyter-widgets/controls",
      "_view_module_version": "1.5.0",
      "_view_name": "ProgressView",
      "bar_style": "success",
      "description": "100%",
      "description_tooltip": null,
      "layout": "IPY_MODEL_c6a9f5cde2c749df9afa887a4f1bf933",
      "max": 46827520,
      "min": 0,
      "orientation": "horizontal",
      "style": "IPY_MODEL_783df4d7950d473e8fc1a2ddd4b6ce21",
      "value": 46827520
     }
    },
    "783df4d7950d473e8fc1a2ddd4b6ce21": {
     "model_module": "@jupyter-widgets/controls",
     "model_name": "ProgressStyleModel",
     "state": {
      "_model_module": "@jupyter-widgets/controls",
      "_model_module_version": "1.5.0",
      "_model_name": "ProgressStyleModel",
      "_view_count": null,
      "_view_module": "@jupyter-widgets/base",
      "_view_module_version": "1.2.0",
      "_view_name": "StyleView",
      "bar_color": null,
      "description_width": "initial"
     }
    },
    "c3df261e0e1d44d8b0741d91b4681db6": {
     "model_module": "@jupyter-widgets/controls",
     "model_name": "HBoxModel",
     "state": {
      "_dom_classes": [],
      "_model_module": "@jupyter-widgets/controls",
      "_model_module_version": "1.5.0",
      "_model_name": "HBoxModel",
      "_view_count": null,
      "_view_module": "@jupyter-widgets/controls",
      "_view_module_version": "1.5.0",
      "_view_name": "HBoxView",
      "box_style": "",
      "children": [
       "IPY_MODEL_7270579eea494db3a9f4488719a2233f",
       "IPY_MODEL_17a28652356f40e39f88d80409f22f63"
      ],
      "layout": "IPY_MODEL_68fae75bf494401cbe894fff70a04f3c"
     }
    },
    "c6a9f5cde2c749df9afa887a4f1bf933": {
     "model_module": "@jupyter-widgets/base",
     "model_name": "LayoutModel",
     "state": {
      "_model_module": "@jupyter-widgets/base",
      "_model_module_version": "1.2.0",
      "_model_name": "LayoutModel",
      "_view_count": null,
      "_view_module": "@jupyter-widgets/base",
      "_view_module_version": "1.2.0",
      "_view_name": "LayoutView",
      "align_content": null,
      "align_items": null,
      "align_self": null,
      "border": null,
      "bottom": null,
      "display": null,
      "flex": null,
      "flex_flow": null,
      "grid_area": null,
      "grid_auto_columns": null,
      "grid_auto_flow": null,
      "grid_auto_rows": null,
      "grid_column": null,
      "grid_gap": null,
      "grid_row": null,
      "grid_template_areas": null,
      "grid_template_columns": null,
      "grid_template_rows": null,
      "height": null,
      "justify_content": null,
      "justify_items": null,
      "left": null,
      "margin": null,
      "max_height": null,
      "max_width": null,
      "min_height": null,
      "min_width": null,
      "object_fit": null,
      "object_position": null,
      "order": null,
      "overflow": null,
      "overflow_x": null,
      "overflow_y": null,
      "padding": null,
      "right": null,
      "top": null,
      "visibility": null,
      "width": null
     }
    }
   }
  }
 },
 "nbformat": 4,
 "nbformat_minor": 1
}
