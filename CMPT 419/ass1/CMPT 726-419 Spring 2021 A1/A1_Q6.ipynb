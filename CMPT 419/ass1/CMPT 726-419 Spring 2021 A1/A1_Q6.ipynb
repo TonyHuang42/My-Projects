{
  "nbformat": 4,
  "nbformat_minor": 0,
  "metadata": {
    "kernelspec": {
      "display_name": "Python 3",
      "language": "python",
      "name": "python3"
    },
    "language_info": {
      "name": "python",
      "version": "3.7.3",
      "mimetype": "text/x-python",
      "codemirror_mode": {
        "name": "ipython",
        "version": 3
      },
      "pygments_lexer": "ipython3",
      "nbconvert_exporter": "python",
      "file_extension": ".py"
    },
    "nteract": {
      "version": "0.25.0"
    },
    "colab": {
      "name": "A1_Q6.ipynb",
      "provenance": [],
      "collapsed_sections": []
    }
  },
  "cells": [
    {
      "cell_type": "markdown",
      "metadata": {
        "id": "v-uhUTX_W9E6"
      },
      "source": [
        "# Assignment 1 Question 6\n",
        "\n",
        "Import necessary Python packages."
      ]
    },
    {
      "cell_type": "code",
      "metadata": {
        "execution": {
          "iopub.status.busy": "2021-02-07T09:40:00.617Z",
          "iopub.execute_input": "2021-02-07T09:40:00.633Z",
          "iopub.status.idle": "2021-02-07T09:40:01.101Z",
          "shell.execute_reply": "2021-02-07T09:40:01.116Z"
        },
        "id": "-6Bx4o3EW9E8"
      },
      "source": [
        "import numpy as np\n",
        "import scipy.io\n",
        "path_prefix = \"\""
      ],
      "execution_count": 14,
      "outputs": []
    },
    {
      "cell_type": "markdown",
      "metadata": {
        "id": "fjpQqc2Bm7Fh"
      },
      "source": [
        "If running on Google Colab, execute the following block of code; otherwise, skip the block below. "
      ]
    },
    {
      "cell_type": "code",
      "metadata": {
        "id": "c6TZM8lwlV0Q",
        "colab": {
          "base_uri": "https://localhost:8080/"
        },
        "outputId": "f3aa3e20-6547-4829-eb63-da7c9359ea41"
      },
      "source": [
        "from google.colab import drive\n",
        "drive.mount('/content/gdrive')\n",
        "path_prefix = \"/content/gdrive/My Drive/CMPT 726-419 Spring 2021 A1/\""
      ],
      "execution_count": 15,
      "outputs": [
        {
          "output_type": "stream",
          "text": [
            "Drive already mounted at /content/gdrive; to attempt to forcibly remount, call drive.mount(\"/content/gdrive\", force_remount=True).\n"
          ],
          "name": "stdout"
        }
      ]
    },
    {
      "cell_type": "markdown",
      "metadata": {
        "id": "pAsDP8YNW9E9"
      },
      "source": [
        "## Part (b)"
      ]
    },
    {
      "cell_type": "code",
      "metadata": {
        "execution": {
          "iopub.status.busy": "2021-02-07T09:40:06.199Z",
          "iopub.execute_input": "2021-02-07T09:40:06.210Z",
          "iopub.status.idle": "2021-02-07T09:40:06.231Z",
          "shell.execute_reply": "2021-02-07T09:40:06.250Z"
        },
        "id": "sjNx50_aW9E9",
        "colab": {
          "base_uri": "https://localhost:8080/"
        },
        "outputId": "fdeb6943-3203-42de-c4a7-60e49636a1d7"
      },
      "source": [
        "mdict = scipy.io.loadmat(\"{}a.mat\".format(path_prefix))\n",
        "x = mdict['x'][0]\n",
        "u = mdict['u'][0]\n",
        "\n",
        "# Required: write code below that produces two variables, A and B, which\n",
        "# are scalars of type numpy.float64 that represent the model parameters \n",
        "# A and B\n",
        "\n",
        "### start 1 ###\n",
        "X = np.matrix([x[:-1], u[:-1]]).T\n",
        "A, B = np.linalg.lstsq(X, x[1:], rcond=None)[0]\n",
        "### end 1 ###\n",
        "\n",
        "# Do not modify the lines below\n",
        "assert(isinstance(A, np.float64))\n",
        "assert(isinstance(B, np.float64))\n",
        "\n",
        "print(\"A: {}, B: {}\".format(A, B))"
      ],
      "execution_count": 36,
      "outputs": [
        {
          "output_type": "stream",
          "text": [
            "A: 0.9775521351844118, B: -0.08775321877345647\n"
          ],
          "name": "stdout"
        }
      ]
    },
    {
      "cell_type": "markdown",
      "metadata": {
        "id": "RkgKLbTuW9E-"
      },
      "source": [
        "## Part (d)"
      ]
    },
    {
      "cell_type": "code",
      "metadata": {
        "execution": {
          "iopub.status.busy": "2021-02-07T09:50:31.681Z",
          "iopub.execute_input": "2021-02-07T09:50:31.685Z",
          "iopub.status.idle": "2021-02-07T09:50:31.698Z",
          "shell.execute_reply": "2021-02-07T09:50:31.703Z"
        },
        "id": "yLW88GimW9E-"
      },
      "source": [
        "mdict = scipy.io.loadmat(\"{}b.mat\".format(path_prefix))\n",
        "X_raw = mdict['x']\n",
        "U_raw = mdict['u']\n",
        "\n",
        "# Required: write code below that produces two variables, A and B, which\n",
        "# are 3 x 3 float64 matrices of type numpy.ndarray that represent the \n",
        "# model parameters A and B\n",
        "\n",
        "### start 2 ###\n",
        "\n",
        "### end 2 ###\n",
        "\n",
        "# Do not modify the lines below\n",
        "assert(isinstance(A, np.ndarray))\n",
        "assert(isinstance(B, np.ndarray))\n",
        "assert(A.shape == (3,3))\n",
        "assert(B.shape == (3,3))\n",
        "assert(A.dtype == np.float64)\n",
        "assert(B.dtype == np.float64)\n",
        "\n",
        "print(\"A: \\n{}, \\nB: \\n{}\".format(A, B))"
      ],
      "execution_count": null,
      "outputs": []
    },
    {
      "cell_type": "markdown",
      "metadata": {
        "nteract": {
          "transient": {
            "deleting": false
          }
        },
        "id": "a0BLWn1PW9E_"
      },
      "source": [
        "## Part (f)\n",
        "\n",
        "Solving for the OLS formulation of (b)"
      ]
    },
    {
      "cell_type": "code",
      "metadata": {
        "collapsed": true,
        "jupyter": {
          "source_hidden": false,
          "outputs_hidden": false
        },
        "nteract": {
          "transient": {
            "deleting": false
          }
        },
        "execution": {
          "iopub.status.busy": "2021-02-07T09:50:22.974Z",
          "iopub.execute_input": "2021-02-07T09:50:22.979Z",
          "iopub.status.idle": "2021-02-07T09:50:23.000Z",
          "shell.execute_reply": "2021-02-07T09:50:23.011Z"
        },
        "id": "uONbno5sW9E_"
      },
      "source": [
        "mdict = scipy.io.loadmat(\"{}b.mat\".format(path_prefix))\n",
        "X_raw = mdict['x']\n",
        "U_raw = mdict['u']\n",
        "\n",
        "# Required: write code below that produces two variables, A and B, which\n",
        "# are 3 x 3 float64 matrices of type numpy.ndarray that represent the \n",
        "# model parameters A and B\n",
        "\n",
        "### start 3 ###\n",
        "\n",
        "### end 3 ###\n",
        "\n",
        "# Do not modify the lines below\n",
        "assert(isinstance(A, np.ndarray))\n",
        "assert(isinstance(B, np.ndarray))\n",
        "assert(A.shape == (3,3))\n",
        "assert(B.shape == (3,3))\n",
        "assert(A.dtype == np.float64)\n",
        "assert(B.dtype == np.float64)\n",
        "\n",
        "print(\"A: \\n{}, \\nB: \\n{}\".format(A, B))"
      ],
      "execution_count": null,
      "outputs": []
    }
  ]
}